{
  "nbformat": 4,
  "nbformat_minor": 0,
  "metadata": {
    "colab": {
      "provenance": [],
      "authorship_tag": "ABX9TyPq/nR97ltl+E8Mbd+XaI5z",
      "include_colab_link": true
    },
    "kernelspec": {
      "name": "python3",
      "display_name": "Python 3"
    },
    "language_info": {
      "name": "python"
    }
  },
  "cells": [
    {
      "cell_type": "markdown",
      "metadata": {
        "id": "view-in-github",
        "colab_type": "text"
      },
      "source": [
        "<a href=\"https://colab.research.google.com/github/Estafy/MachineLearning/blob/main/UNIDAD2/Proyecto_Unidad_2.ipynb\" target=\"_parent\"><img src=\"https://colab.research.google.com/assets/colab-badge.svg\" alt=\"Open In Colab\"/></a>"
      ]
    },
    {
      "cell_type": "markdown",
      "metadata": {
        "id": "9cc59c9d"
      },
      "source": [
        "# **Asignatura: Machine Learning**\n",
        "\n",
        "### **Unidad 2**\n",
        "\n",
        "**Docente: Jose Gabriel Rodriguez Rivas**\n",
        "\n",
        "Alumnos: Estefania Gonzalez Galindo y Jesus Yahel Escobedo Hernandez\n",
        "\n",
        "Proyecto: Asesinatos"
      ]
    }
  ]
}